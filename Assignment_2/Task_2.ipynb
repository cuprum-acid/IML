{
 "cells": [
  {
   "cell_type": "markdown",
   "id": "ad909418-3384-444f-a7b6-f85a80eefa27",
   "metadata": {},
   "source": [
    "# Assignment 2\n",
    "\n",
    "This assignment serves as a comprehensive evaluation of your machine learning skills, encompassing not only the technical aspects of model development but also your ability to analyze, interpret, and present data insights effectively. As such, it's essential to ensure that your submission is complete, functional, and devoid of any obvious gaps, as if you were delivering this project to a client.\n",
    "\n",
    "To achieve this, leverage the full capabilities of Markdown and the interactive visualization tools available in Jupyter notebooks to craft a well-structured and visually appealing report of your findings. Your report should clearly communicate the insights you've gained from the exploratory data analysis, the rationale behind your data preprocessing and feature engineering decisions, and a thorough analysis of feature importance. High-quality visualizations and well-organized documentation will not only support your analysis but also make your results more accessible and understandable to your audience.\n",
    "\n",
    "Remember, the ability to present complex results in an intuitive and engaging manner is a crucial skill, almost as important as the technical proficiency in model building and data analysis. Treat this assignment as an opportunity to showcase your skills in both areas.\n",
    "\n",
    "## Instructions\n",
    "- Your submission should be a `.ipynb` file with your name,\n",
    "  like `FirstnameLastname.ipynb`. It should include the answers to the questions in markdown cells, your data analysis and results.\n",
    "- You are expected to follow the best practices for code writing and model\n",
    "training. Poor coding style will be penalized.\n",
    "- You are allowed to discuss ideas with your peers, but no sharing of code.\n",
    "Plagiarism in the code will result in failing. If you use code from the\n",
    "internet, cite it by adding the source of the code as a comment in the first line of the code cell. [Academic misconduct policy](https://wiki.innopolis.university/display/DOE/Academic+misconduct+policy)\n",
    "- In real life clients can give unclear goals or requirements. So, if the instructions seem vague, use common sense to make reasonable assumptions and decisions.\n",
    "\n",
    "## Self-Reliance and Exploration\n",
    "In this task, you're encouraged to rely on your resourcefulness and creativity. Dive into available resources, experiment with various solutions, and learn from every outcome. While our team is here to clarify task details and offer conceptual guidance, we encourage you to first seek answers independently. This approach is vital for developing your problem-solving skills in machine learning.\n",
    "\n"
   ]
  },
  {
   "cell_type": "markdown",
   "id": "f38d3afb-58f8-4335-8fac-074db8adeaa7",
   "metadata": {},
   "source": [
    "# Task 2: Image Classification with CNNs (50%)\n",
    "\n",
    "In this task, you'll dive into the world of Convolutional Neural Networks (CNNs) by working with the CIFAR-10 dataset, a staple in image classification challenges. Your goal is to build and evaluate two different CNN models to classify images into one of the ten categories accurately.\n",
    "\n",
    "The dataset is availabel in pytorch and keras.\n",
    "\n",
    "## Part 1: Custom CNN Model (20%)\n",
    "\n",
    "- Design and train a CNN model from scratch tailored for the CIFAR-10 dataset.\n",
    "- Focus on the architecture that you believe will perform best for this specific task.\n",
    "- Integrate various techniques such as batch normalization, dropout, learning rate schedulers, and early stopping to improve model training. Experiment with these methods and finetune them to see how they affect training stability, convergence speed, and overall performance.\n",
    "\n",
    "## Part 2: Transfer Learning Model (20%)\n",
    "\n",
    "- Implement a transfer learning approach using a pre-trained model of your choice.\n",
    "- Fine-tune the model on the CIFAR-10 dataset to achieve the best possible performance.\n",
    "\n",
    "## Evaluation (10%)\n",
    "\n",
    "Ensure that both models are robust and generalized well to unseen data.\n",
    "\n",
    "After training both models, you will evaluate them on a provided test dataset.\n",
    "\n",
    "Compare your models based on:\n",
    "- **AUC-ROC**: How well does each model discriminate between classes?\n",
    "- **Model Size**: Consider the trade-offs in model complexity.\n",
    "- **Inference Speed**: Evaluate how quickly your model can predict classes for new images.\n",
    "\n",
    "Reflect on the performance, size, and inference speed of both models. What insights can you draw from these comparisons?\n",
    "\n",
    "### Learning Objectives\n",
    "\n",
    "- Understand and apply CNNs for image classification.\n",
    "- Explore the impact of model architecture on performance and efficiency.\n",
    "- Learn the process and benefits of transfer learning in deep learning.\n",
    "\n",
    "Remember, the key to this task is not just about achieving the highest accuracy but also understanding the strengths and limitations of different approaches in machine learning model development."
   ]
  },
  {
   "cell_type": "code",
   "execution_count": null,
   "id": "e94cdbd8-79b5-43ac-b0e1-0858da622e6e",
   "metadata": {},
   "outputs": [],
   "source": []
  }
 ],
 "metadata": {
  "kernelspec": {
   "display_name": "Python 3 (ipykernel)",
   "language": "python",
   "name": "python3"
  },
  "language_info": {
   "codemirror_mode": {
    "name": "ipython",
    "version": 3
   },
   "file_extension": ".py",
   "mimetype": "text/x-python",
   "name": "python",
   "nbconvert_exporter": "python",
   "pygments_lexer": "ipython3",
   "version": "3.9.13"
  }
 },
 "nbformat": 4,
 "nbformat_minor": 5
}
