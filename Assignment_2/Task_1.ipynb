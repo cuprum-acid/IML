{
 "cells": [
  {
   "cell_type": "markdown",
   "id": "dbaf3527-69bc-4c9a-8138-f376d0b89365",
   "metadata": {
    "tags": []
   },
   "source": [
    "# Assignment 2\n",
    "\n",
    "This assignment serves as a comprehensive evaluation of your machine learning skills, encompassing not only the technical aspects of model development but also your ability to analyze, interpret, and present data insights effectively. As such, it's essential to ensure that your submission is complete, functional, and devoid of any obvious gaps, as if you were delivering this project to a client.\n",
    "\n",
    "To achieve this, leverage the full capabilities of Markdown and the interactive visualization tools available in Jupyter notebooks to craft a well-structured and visually appealing report of your findings. Your report should clearly communicate the insights you've gained from the exploratory data analysis, the rationale behind your data preprocessing and feature engineering decisions, and a thorough analysis of feature importance. High-quality visualizations and well-organized documentation will not only support your analysis but also make your results more accessible and understandable to your audience.\n",
    "\n",
    "Remember, the ability to present complex results in an intuitive and engaging manner is a crucial skill, almost as important as the technical proficiency in model building and data analysis. Treat this assignment as an opportunity to showcase your skills in both areas.\n",
    "\n",
    "## Instructions\n",
    "- Your submission should be a `.ipynb` file with your name,\n",
    "  like `FirstnameLastname.ipynb`. It should include the answers to the questions in markdown cells, your data analysis and results.\n",
    "- You are expected to follow the best practices for code writing and model\n",
    "training. Poor coding style will be penalized.\n",
    "- You are allowed to discuss ideas with your peers, but no sharing of code.\n",
    "Plagiarism in the code will result in failing. If you use code from the\n",
    "internet, cite it by adding the source of the code as a comment in the first line of the code cell. [Academic misconduct policy](https://wiki.innopolis.university/display/DOE/Academic+misconduct+policy)\n",
    "- In real life clients can give unclear goals or requirements. So, if the instructions seem vague, use common sense to make reasonable assumptions and decisions.\n",
    "\n",
    "## Self-Reliance and Exploration\n",
    "In this task, you're encouraged to rely on your resourcefulness and creativity. Dive into available resources, experiment with various solutions, and learn from every outcome. While our team is here to clarify task details and offer conceptual guidance, we encourage you to first seek answers independently. This approach is vital for developing your problem-solving skills in machine learning.\n",
    "\n"
   ]
  },
  {
   "cell_type": "markdown",
   "id": "7f7e3afb-5c53-4595-b8bd-d6c23989aa54",
   "metadata": {},
   "source": [
    "# Task 1: [Where's Waldo?](https://www.wikihow.com/Find-Waldo) (50%)\n",
    "\n",
    "## Fingerprinting\n",
    "Browser fingerprinting is a technique used to identify and track individuals based on unique characteristics of their web browser configuration. These characteristics can include the browser type, version, installed plugins, and screen resolution, among others. By combining these attributes, websites can create a digital fingerprint that can be used to track user behavior across multiple sites, even if they clear their cookies or use different devices. This has raised concerns about privacy and the potential for this technology to be used for targeted advertising, surveillance, and other purposes.\n",
    "\n",
    "[Read more about Fingerprinting](https://datadome.co/learning-center/browser-fingerprinting-techniques/)\n",
    "\n",
    "\n",
    "## What You Need to Do\n",
    "In this task, you are required to employ a fully connected feed-forward Artificial Neural Network (ANN) to tackle a classification problem. This involves several key steps, each critical to the development and performance of your model:\n",
    "\n",
    "- **Exploratory Data Analysis (EDA) (10%)**: Begin by conducting a thorough exploratory analysis of the provided dataset. Your goal here is to uncover patterns, anomalies, relationships, or trends that could influence your modeling decisions. **Share the insights** you gather from this process and explain how they informed your subsequent steps.\n",
    "  \n",
    "- **Data Preprocessing and Feature Engineering (10%)**: Based on your EDA insights, choose and implement the most appropriate data preprocessing steps and feature engineering techniques. This may include handling missing values, encoding categorical variables, normalizing data, and creating new features that could enhance your model's ability to learn from the data.\n",
    "  \n",
    "- **Model Design and Training (10%)**: Design a fully connected feed-forward ANN model. You will need to experiment with different architectures, layer configurations, and hyperparameters to find the most effective solution for the classification problem at hand.\n",
    "\n",
    "- **Feature Importance Analysis (10%)**: After developing your model, analyze which features are most important for making predictions. Discuss how this analysis aligns with your initial EDA insights and what it reveals about the characteristics most indicative of specific user behaviors or identities.\n",
    "\n",
    "- **Evaluation (10%)**: You will be required to submit your model prediction on a hidden data set.\n",
    "\n",
    "### Data\n",
    "You will be using the data in `Task_1.json` to identify Waldo (`user_id=0`). The dataset includes:\n",
    "- **\"browser\", \"os\" and \"locale\"**: Information about the software used.\n",
    "- **\"user_id\"**: A unique identifier for each user.\n",
    "- **\"location\"**: Geolocation based on the IP address used.\n",
    "- **\"sites\"**: A list of visited URLs and the time spent there in seconds.\n",
    "- **\"time\" and \"date\"**: When the session started in GMT.\n",
    "\n",
    "\n",
    "### Evaluation\n",
    "After training, evaluate your model by printing the classification report on your test set. Then, predict whether each user in `task_1_verify.json` is Waldo or not, by adding the boolean `is_waldo` property to the `task_1_verify.json`:\n",
    "\n",
    "```diff\n",
    "  [\n",
    "    {\n",
    "+     \"is_waldo\": false,\n",
    "      \"browser\": \"Chrome\",\n",
    "      \"os\": \"Debian\",\n",
    "      \"locale\": \"ur-PK\",\n",
    "      \"location\": \"Russia/Moscow\",\n",
    "      \"sites\": [\n",
    "          // ...\n",
    "      ],\n",
    "      \"time\": \"04:12:00\",\n",
    "      \"date\":\"2017-06-29\"\n",
    "    }\n",
    "    // ...\n",
    "  ]\n",
    "\n",
    "```\n",
    "\n",
    "## Learning Objectives\n",
    "\n",
    "- **Exploratory Data Analysis**: Apply suitable analysis techniques to gain insights and better understand the dataset.\n",
    "- **Classification Approach**: Identify the most appropriate method for the given problem.\n",
    "- **Data Preprocessing**: Select and execute proper preprocessing and encoding techniques.\n",
    "- **Model Implementation**: Utilize ANNs to address a classification problem, including training, validation, and testing phases.\n",
    "- **Feature Importance Analysis**: Determine and report which features are most critical for the model's predictions to uncover insights into specific user behaviors."
   ]
  },
  {
   "cell_type": "code",
   "execution_count": null,
   "id": "3d3fbfb4-b60d-449d-83bd-b9b8d9e10f96",
   "metadata": {},
   "outputs": [],
   "source": [
    "# code here"
   ]
  }
 ],
 "metadata": {
  "kernelspec": {
   "display_name": "Python 3 (ipykernel)",
   "language": "python",
   "name": "python3"
  },
  "language_info": {
   "codemirror_mode": {
    "name": "ipython",
    "version": 3
   },
   "file_extension": ".py",
   "mimetype": "text/x-python",
   "name": "python",
   "nbconvert_exporter": "python",
   "pygments_lexer": "ipython3",
   "version": "3.9.13"
  }
 },
 "nbformat": 4,
 "nbformat_minor": 5
}
